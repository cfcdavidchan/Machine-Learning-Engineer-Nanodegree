{
 "cells": [
  {
   "cell_type": "markdown",
   "metadata": {},
   "source": [
    "This is a project about prediting index or stock price in financial market by using machine learning. In this project, we will ulitlze Yahoo Finance API to obtain the data we need. After that, pandas and sklearn library is going to be used in order to build in a machine learning that use to forecast the future price. \n",
    "\n",
    "In this project, there are two parts totally. The first part is about defining some necessary code in this project. These defined code is including three main function. \n",
    "1. Accessing Yahoo Finance API to obtain all necessary data, then transfer it into a dataframe\n",
    "2. Ploting data with some useful annotation and common used indicator.\n",
    "3. Learning data by using LinearRegression function from sklearn.\n",
    "\n",
    "In the second part, it will show how to use all the function. In this part, I will initally work out some examples of accessing the data by the defined function, explaining how to use it. After that I will try to predict the stock price after it."
   ]
  },
  {
   "cell_type": "markdown",
   "metadata": {},
   "source": [
    "# Part 1. Defining Necessary Code"
   ]
  },
  {
   "cell_type": "markdown",
   "metadata": {},
   "source": [
    "##### Part 1.1 implement all library "
   ]
  },
  {
   "cell_type": "code",
   "execution_count": 2,
   "metadata": {
    "collapsed": false
   },
   "outputs": [],
   "source": [
    "from yahoo_finance import Share\n",
    "import pandas as pd\n",
    "import numpy as np\n",
    "import datetime as dt\n",
    "import matplotlib\n",
    "import matplotlib.pyplot as plt\n",
    "import matplotlib.dates as mdates\n",
    "from matplotlib import style\n",
    "#from sklearn.cross_validation import ShuffleSplit\n",
    "from sklearn.metrics import r2_score\n",
    "from sklearn.metrics import make_scorer\n",
    "from sklearn.cross_validation import train_test_split\n",
    "from sklearn import linear_model\n",
    "from sklearn.grid_search import GridSearchCV"
   ]
  },
  {
   "cell_type": "code",
   "execution_count": 3,
   "metadata": {
    "collapsed": false
   },
   "outputs": [],
   "source": [
    "style.use('dark_background')\n",
    "#%matplotlib osx\n",
    "#%matplotlib notebook\n",
    "#%matplotlib inline  \n",
    "#plt.ioff()\n",
    "#getting all the styke in matplotlib\n",
    "#print plt.style.available"
   ]
  },
  {
   "cell_type": "markdown",
   "metadata": {},
   "source": [
    "##### Part 1.2 Accessing stock and transfer it into dataframe"
   ]
  },
  {
   "cell_type": "code",
   "execution_count": 4,
   "metadata": {
    "collapsed": false
   },
   "outputs": [],
   "source": [
    "def get_data(symbols,start_date,end_date):\n",
    "    ## Getting data from yahoo finance\n",
    "    dates = pd.date_range(start_date,end_date)\n",
    "    df = pd.DataFrame(index=dates)\n",
    "    if '^HSI' not in symbols:\n",
    "        symbols.insert(0,'^HSI')\n",
    "    for symbol in symbols:\n",
    "        df_tmp = Share(symbol).get_historical(start_date,end_date)\n",
    "        df_tmp = pd.DataFrame(df_tmp)\n",
    "        df_tmp['Adj_Close'] = df_tmp['Adj_Close'].astype(float)\n",
    "        df_tmp = df_tmp.rename(columns={'Adj_Close':symbol})\n",
    "        df_tmp = df_tmp.set_index('Date')\n",
    "        df_tmp = df_tmp[symbol]\n",
    "        df = df.join(df_tmp)        \n",
    "        if symbol == '^HSI':\n",
    "            df = df.dropna(subset=['^HSI'])\n",
    "            \n",
    "        df = df.dropna(subset=['^HSI'])\n",
    "    df.fillna(method='ffill',inplace=True)\n",
    "    df.fillna(method='backfill',inplace=True)\n",
    "    return df.round(2)"
   ]
  },
  {
   "cell_type": "markdown",
   "metadata": {},
   "source": [
    "##### Part 1.3 Presenting data"
   ]
  },
  {
   "cell_type": "code",
   "execution_count": 5,
   "metadata": {
    "collapsed": false
   },
   "outputs": [],
   "source": [
    "def plot_stock(df_data, target_stock, annotate_switch):\n",
    "    \n",
    "    if target_stock == 'all':\n",
    "        df = df_data\n",
    "        symbols = df_data.columns\n",
    "        title_name = 'All Stock'\n",
    "    else:\n",
    "        df = df_data[target_stock]\n",
    "        symbols = target_stock\n",
    "        title_name = 'target_stock'\n",
    "        \n",
    "        \n",
    "    ax = df.plot(title= title_name, fontsize= 10, figsize=(20, 10))\n",
    "    ax.set_xlabel('Date', fontsize= 15)\n",
    "    ax.set_ylabel('Price', fontsize= 15)\n",
    "    if annotate_switch == True:\n",
    "        bbox_props = dict( boxstyle = 'larrow,pad=0.2', fc= \"k\", ec= \"y\",)\n",
    "        for symbol in symbols:\n",
    "            ax.annotate( str(df_data[symbol][-1]), ((data.index[-1]), df_data[symbol][-1]),\n",
    "                        xytext= (data.index[-1]+ dt.timedelta(days=5), df_data[symbol][-1]),\n",
    "                        color= 'y', fontweight='bold', fontsize = 10, bbox= bbox_props)\n",
    "\n",
    "    plt.subplots_adjust(left= 0.04, bottom= 0.1, right= 0.95, top= 0.95, wspace= 0, hspace= 0.1 )\n",
    "    plt.show()\n",
    "        \n",
    "        \n",
    "#         ax = df_data.plot(title= 'All Stock', fontsize= 10)\n",
    "#         ax.set_xlabel('Date', fontsize= 15)\n",
    "#         ax.set_ylabel('Price', fontsize= 15)\n",
    "#         if annotate_switch == True:\n",
    "#             bbox_props = dict( boxstyle = 'larrow,pad=0.2', fc= \"k\", ec= \"y\",)\n",
    "#             for symbol in df_data.columns:\n",
    "#                 ax.annotate( str(df_data[symbol][-1]), ((data.index[-1]), df_data[symbol][-1]),\n",
    "#                             xytext= (data.index[-1]+ dt.timedelta(days=5), df_data[symbol][-1]),\n",
    "#                             color= 'y', fontweight='bold', fontsize = 10, bbox= bbox_props)\n",
    "    \n",
    "#         plt.subplots_adjust(left= 0.04, bottom= 0.1, right= 0.95, top= 0.95, wspace= 0, hspace= 0.1 )\n",
    "#         plt.show()\n",
    "        \n",
    "        \n",
    "#     else:\n",
    "#         ax = df_data[target_stock].plot(title= target_stock, fontsize= 10)\n",
    "#         ax.set_xlabel('Date', fontsize= 15)\n",
    "#         ax.set_ylabel('Price', fontsize= 15)\n",
    "#         if annotate_switch == True:\n",
    "#             bbox_props = dict( boxstyle = 'larrow,pad=0.2', fc= \"k\", ec= \"y\",)\n",
    "#             for symbol in target_stock:\n",
    "#                 ax.annotate( str(df_data[symbol][-1]), ((data.index[-1]), df_data[symbol][-1]),\n",
    "#                              xytext= (data.index[-1]+ dt.timedelta(days=5), df_data[symbol][-1]),\n",
    "#                             color= 'y', fontweight='bold', fontsize = 10, bbox= bbox_props)\n",
    "\n",
    "#         plt.subplots_adjust(left= 0.04, bottom= 0.1, right= 0.95, top= 0.95, wspace= 0, hspace= 0.1 )\n",
    "#         plt.show()\n",
    "    "
   ]
  },
  {
   "cell_type": "code",
   "execution_count": 6,
   "metadata": {
    "collapsed": true
   },
   "outputs": [],
   "source": [
    "def plot_datasubplot(df):\n",
    "    ax = df.plot(subplots= True, figsize= (20,15), title= str(df.columns), secondary_y= False)\n",
    "    plt.xlabel(\"Date\")\n",
    "    plt.subplots_adjust(left= 0.03, bottom= 0.1, right= 0.98, top= 0.95, wspace= 0, hspace= 0.1 )\n",
    "    plt.show()"
   ]
  },
  {
   "cell_type": "code",
   "execution_count": 7,
   "metadata": {
    "collapsed": false
   },
   "outputs": [],
   "source": [
    "def log_correlation_finder(dataframe,target,critical_value):\n",
    "    log_data_dataframe = dataframe.corr()\n",
    "    high_corr = []\n",
    "    for index in log_data_dataframe.index:\n",
    "        if index != target:\n",
    "            if abs(log_data_dataframe.loc[target][index]) > critical_value:\n",
    "                high_corr.append(index)\n",
    "    return log_data_dataframe, high_corr"
   ]
  },
  {
   "cell_type": "code",
   "execution_count": 8,
   "metadata": {
    "collapsed": false
   },
   "outputs": [],
   "source": [
    "def ema(stock,window):\n",
    "    dates = pd.date_range(str(stock.index[0]),str(stock.index[-1]))\n",
    "#    dates = pd.date_range('2015-07-01','2016-07-31')\n",
    "    df = pd.DataFrame(index=dates)\n",
    "    name = '{}_ema({})'.format(stock.name,window)\n",
    "    df[name] = pd.stats.moments.ewma(stock,window)\n",
    "#    df = df.join(df[name])\n",
    "    df = df.dropna(subset=[name])\n",
    "    return df"
   ]
  },
  {
   "cell_type": "code",
   "execution_count": 9,
   "metadata": {
    "collapsed": false
   },
   "outputs": [],
   "source": [
    "def rsi(stock,window):\n",
    "    dates = pd.date_range(str(stock.index[0]),str(stock.index[-1]))\n",
    "    df = pd.DataFrame(index=dates)\n",
    "    name = '{}_RSI({})'.format(stock.name,window)\n",
    "    df[name] = stock\n",
    "    df = df.dropna(subset=[name])\n",
    "\n",
    "    delta = df[name].diff().dropna()\n",
    "    \n",
    "    u = delta * 0\n",
    "    d = u.copy()\n",
    "    u[delta > 0] = delta[delta > 0]     \n",
    "    d[delta < 0] = -delta[delta < 0]\n",
    "    u[u.index[window-1]] = np.mean( u[:window] ) #first value is sum of avg gains\n",
    "    u = u.drop(u.index[:(window-1)])\n",
    "    d[d.index[window-1]] = np.mean( d[:window] ) #first value is sum of avg losses\n",
    "    d = d.drop(d.index[:(window-1)])\n",
    "    rs = pd.stats.moments.ewma(u, com=window-1, adjust=False)/pd.stats.moments.ewma(d, com=window-1, adjust=False)\n",
    "    df = 100 - 100 / (1 + rs)\n",
    "#    df = pd.DataFrame(df)\n",
    "    return df"
   ]
  },
  {
   "cell_type": "code",
   "execution_count": 10,
   "metadata": {
    "collapsed": false
   },
   "outputs": [],
   "source": [
    "def graph_with_indicator(stock):\n",
    "    #5,8,13\n",
    "    df = pd.DataFrame(stock)\n",
    "    name = str(df.columns[0])\n",
    "    windows = [5,8,13]\n",
    "    for window in windows:\n",
    "        df_tmp = ema(stock,window)\n",
    "        df = df.join(df_tmp)\n",
    "        \n",
    "    stock_rsi = rsi(stock,14) \n",
    "    \n",
    "    fig, axes = plt.subplots(nrows=2, ncols=1, figsize=(20, 10))\n",
    "\n",
    "    fig.suptitle(name, fontsize=20)\n",
    "    df.plot(ax=axes[0])\n",
    "       \n",
    "    axes[0].xaxis.set_visible(False)\n",
    "    axes[0].legend(loc='upper center', ncol=4, fancybox=False, shadow=True)\n",
    "    \n",
    "    bbox_props = dict( boxstyle = 'square,pad=0.2', fc= \"k\", ec= \"y\",)\n",
    "    axes[0].annotate( str(df.iloc[-1]), ((stock.index[-1]), stock[-1]),\n",
    "                        xytext= (df.index[-1]+ dt.timedelta(days=10), ((stock.max()+np.percentile(stock,75))/2)),\n",
    "                        color= 'y', fontweight='bold', fontsize = 12, bbox= bbox_props)\n",
    "    \n",
    "\n",
    "    \n",
    "    \n",
    "    stock_rsi.plot(ax=axes[1])\n",
    "    axes[1].xaxis.set_visible(True)\n",
    "    \n",
    "    annotates = [stock,stock_rsi]\n",
    "    bbox_props2 = dict( boxstyle = 'larrow,pad=0.2', fc= \"k\", ec= \"y\",)\n",
    "    for i in range(2):\n",
    "        axes[i].annotate( str(annotates[i][-1]), ((annotates[i].index[-1]), annotates[i][-1]),\n",
    "                    xytext= (annotates[i].index[-1]+ dt.timedelta(days=5), annotates[i][-1]),\n",
    "                    color= 'y', fontweight='bold', fontsize = 10, bbox= bbox_props2)\n",
    "    \n",
    "    axes[1].set_ylim([0,100])\n",
    "    axes[1].plot([stock_rsi.index[-1], stock_rsi.index[0]], [80, 80],linestyle='--',color = '0.3')\n",
    "    axes[1].plot([stock_rsi.index[-1], stock_rsi.index[0]], [20, 20],linestyle='--',color = '0.3')\n",
    "    axes[1].legend(loc='upper left')\n",
    "    plt.subplots_adjust(left= 0.05, bottom= 0.1, right= 0.75, top= 0.9, wspace= 0, hspace= 0.1 )\n",
    "    plt.show()\n",
    "    \n",
    "#     df = df.join(stock_rsi)\n",
    "#     df = df.iloc[14:,:]\n",
    "    return df"
   ]
  },
  {
   "cell_type": "markdown",
   "metadata": {},
   "source": [
    "##### Part 1.4  Machine Learning"
   ]
  },
  {
   "cell_type": "code",
   "execution_count": 11,
   "metadata": {
    "collapsed": false
   },
   "outputs": [],
   "source": [
    "def split_data(df):\n",
    "    data.shape[1]\n",
    "    splite_rate = 0.3 \n",
    "    splite = splite_rate * data.shape[0]    \n",
    "    days = (df.index -  df.index[0]).days.reshape(-1, 1)\n",
    "    df['days'] = pd.DataFrame(days, index= df.index)\n",
    "    \n",
    "    y_train, y_test = df.iloc[:int(splite) ,0:1], df.iloc[int(splite): ,0:1]\n",
    "    X_train, X_test = df.iloc[:int(splite) ,1:], df.iloc[int(splite): ,1:]\n",
    "    Y = df.iloc[:,0:1]\n",
    "    return X_train, X_test, y_train, y_test"
   ]
  },
  {
   "cell_type": "code",
   "execution_count": 12,
   "metadata": {
    "collapsed": true
   },
   "outputs": [],
   "source": [
    "def performance_metric(y_true, y_predict):\n",
    "    score = r2_score(y_true, y_predict)\n",
    "    return score"
   ]
  },
  {
   "cell_type": "code",
   "execution_count": 13,
   "metadata": {
    "collapsed": true
   },
   "outputs": [],
   "source": [
    "def fit_model(X, y):\n",
    "    \"\"\" Tunes a decision tree regressor model using GridSearchCV on the input data X \n",
    "        and target labels y and returns this optimal model. \"\"\"\n",
    "\n",
    "    regressor = linear_model.LinearRegression()\n",
    "\n",
    "    # Set up the parameters we wish to tune\n",
    "    parameters = {'fit_intercept':[True,False], 'normalize':[True,False], 'copy_X':[True, False]}\n",
    "\n",
    "    # Make an appropriate scoring function\n",
    "    scoring_function = make_scorer(performance_metric)\n",
    "\n",
    "    # Make the GridSearchCV object\n",
    "    reg = GridSearchCV(regressor, parameters, scoring=scoring_function)\n",
    "\n",
    "    # Fit the learner to the data to obtain the optimal model with tuned parameters\n",
    "    reg.fit(X, y)\n",
    "\n",
    "    # Return the optimal model\n",
    "    return reg.best_estimator_"
   ]
  },
  {
   "cell_type": "code",
   "execution_count": 14,
   "metadata": {
    "collapsed": false
   },
   "outputs": [],
   "source": [
    "def graph_learing(X_train, X_test, y_train, y_test):\n",
    "    train_value = reg.predict(X_train)\n",
    "    test_value = reg.predict(X_test)\n",
    "    Y = y_test.append(y_train)\n",
    "\n",
    "    train_value = pd.DataFrame(train_value,index = y_train.index, columns=['train_value'])\n",
    "    test_value = pd.DataFrame(test_value,index = y_test.index, columns=['test_value'])\n",
    "\n",
    "    predict = test_value.append(train_value)\n",
    "    predict = Y.join(predict)\n",
    "    R_2 = performance_metric(y_test,test_value)\n",
    "    \n",
    "    predict['error_train_upper'] = train_value * 1.05\n",
    "    predict['error_train_lower'] = train_value * 0.95\n",
    "    predict['error_test_upper'] = test_value * 1.05\n",
    "    predict['error_test_lower'] = test_value * 0.95\n",
    "    \n",
    "    predict['error_test'] = abs(predict['test_value'] - predict[predict.columns[0]])/predict[predict.columns[0]]\n",
    "    predict['error_train'] = abs(predict['train_value'] - predict[predict.columns[0]])/predict[predict.columns[0]]\n",
    "    \n",
    "    \n",
    "    ax = predict.iloc[:,0:3].plot(title= predict.columns[0], fontsize= 10, figsize=(20, 10))\n",
    "    ax.set_xlabel('Date', fontsize= 15)\n",
    "    ax.set_ylabel('Price', fontsize= 15)\n",
    "    \n",
    "    plt.fill_between(predict.index, predict['error_train_upper'], predict['error_train_lower'], alpha= 0.3 ,color= 'grey')\n",
    "    plt.fill_between(predict.index, predict['error_test_upper'], predict['error_test_lower'], alpha= 0.3 ,color= 'grey')\n",
    "    \n",
    "    \n",
    "    ax.text(1, 1, 'Average train error {:.2f} % , Average test error {:.2f} %'\n",
    "            .format(predict['error_train'].mean() *100, predict['error_test'].mean() *100),\n",
    "        verticalalignment='bottom', horizontalalignment='right',\n",
    "        transform=ax.transAxes,\n",
    "        color='Yellow', fontsize=20)\n",
    "    plt.subplots_adjust(left= 0.04, bottom= 0.1, right= 0.95, top= 0.95, wspace= 0, hspace= 0.1 )\n",
    "    print \"R Square = \", R_2\n",
    "    plt.show()    \n",
    "    return predict"
   ]
  },
  {
   "cell_type": "markdown",
   "metadata": {},
   "source": [
    "# Part 2. Example of preding Hang Seng Index"
   ]
  },
  {
   "cell_type": "markdown",
   "metadata": {},
   "source": [
    "##### Part 2.1  Data accessing"
   ]
  },
  {
   "cell_type": "markdown",
   "metadata": {},
   "source": [
    "get_data is a defined function that obtain the daily stock price we need in a particular time period. In this function, we need three input. \n",
    "1. the list of stock we want\n",
    "2. starting date of the data we need  \n",
    "3. ending date of the data we need \n",
    "\n",
    "Finally, we will have a dataframe that data will be the index and stock price will be the columns of this dataframe.\n",
    "\n",
    "\n",
    "In this example, I try to obtain the 5 stock price data from Hong Kong, which are Hang Seng China enterprises Index(^HSCE), HSBC HOLDINGS(0005.hk), AIA(1299.hk) and China Mobile(0941.hk). Also the preiod I choose is from 2015-07-01 to 2016-07-31. After that, I will save the dataframe named 'data'"
   ]
  },
  {
   "cell_type": "code",
   "execution_count": 20,
   "metadata": {
    "collapsed": false
   },
   "outputs": [],
   "source": [
    "stock = ['^HSCE','0005.hk','1299.hk','0941.hk']\n",
    "data =  get_data(stock,'2015-07-01','2016-07-31')"
   ]
  },
  {
   "cell_type": "code",
   "execution_count": 21,
   "metadata": {
    "collapsed": false
   },
   "outputs": [
    {
     "data": {
      "text/html": [
       "<div>\n",
       "<table border=\"1\" class=\"dataframe\">\n",
       "  <thead>\n",
       "    <tr style=\"text-align: right;\">\n",
       "      <th></th>\n",
       "      <th>^HSI</th>\n",
       "      <th>^HSCE</th>\n",
       "      <th>0005.hk</th>\n",
       "      <th>1299.hk</th>\n",
       "      <th>0941.hk</th>\n",
       "    </tr>\n",
       "  </thead>\n",
       "  <tbody>\n",
       "    <tr>\n",
       "      <th>2015-07-02</th>\n",
       "      <td>26282.32</td>\n",
       "      <td>12784.65</td>\n",
       "      <td>65.92</td>\n",
       "      <td>50.74</td>\n",
       "      <td>97.32</td>\n",
       "    </tr>\n",
       "    <tr>\n",
       "      <th>2015-07-03</th>\n",
       "      <td>26064.11</td>\n",
       "      <td>12608.98</td>\n",
       "      <td>65.92</td>\n",
       "      <td>50.00</td>\n",
       "      <td>96.98</td>\n",
       "    </tr>\n",
       "    <tr>\n",
       "      <th>2015-07-06</th>\n",
       "      <td>25236.28</td>\n",
       "      <td>12231.43</td>\n",
       "      <td>64.36</td>\n",
       "      <td>48.53</td>\n",
       "      <td>93.54</td>\n",
       "    </tr>\n",
       "    <tr>\n",
       "      <th>2015-07-07</th>\n",
       "      <td>24975.31</td>\n",
       "      <td>11827.30</td>\n",
       "      <td>64.88</td>\n",
       "      <td>49.07</td>\n",
       "      <td>92.91</td>\n",
       "    </tr>\n",
       "    <tr>\n",
       "      <th>2015-07-08</th>\n",
       "      <td>23516.56</td>\n",
       "      <td>11107.30</td>\n",
       "      <td>62.32</td>\n",
       "      <td>46.18</td>\n",
       "      <td>87.28</td>\n",
       "    </tr>\n",
       "  </tbody>\n",
       "</table>\n",
       "</div>"
      ],
      "text/plain": [
       "                ^HSI     ^HSCE  0005.hk  1299.hk  0941.hk\n",
       "2015-07-02  26282.32  12784.65    65.92    50.74    97.32\n",
       "2015-07-03  26064.11  12608.98    65.92    50.00    96.98\n",
       "2015-07-06  25236.28  12231.43    64.36    48.53    93.54\n",
       "2015-07-07  24975.31  11827.30    64.88    49.07    92.91\n",
       "2015-07-08  23516.56  11107.30    62.32    46.18    87.28"
      ]
     },
     "execution_count": 21,
     "metadata": {},
     "output_type": "execute_result"
    }
   ],
   "source": [
    "data.head()"
   ]
  },
  {
   "cell_type": "code",
   "execution_count": 22,
   "metadata": {
    "collapsed": false
   },
   "outputs": [
    {
     "data": {
      "text/html": [
       "<div>\n",
       "<table border=\"1\" class=\"dataframe\">\n",
       "  <thead>\n",
       "    <tr style=\"text-align: right;\">\n",
       "      <th></th>\n",
       "      <th>^HSI</th>\n",
       "      <th>^HSCE</th>\n",
       "      <th>0005.hk</th>\n",
       "      <th>1299.hk</th>\n",
       "      <th>0941.hk</th>\n",
       "    </tr>\n",
       "  </thead>\n",
       "  <tbody>\n",
       "    <tr>\n",
       "      <th>^HSI</th>\n",
       "      <td>1.000000</td>\n",
       "      <td>0.977592</td>\n",
       "      <td>0.876642</td>\n",
       "      <td>0.796359</td>\n",
       "      <td>0.845948</td>\n",
       "    </tr>\n",
       "    <tr>\n",
       "      <th>^HSCE</th>\n",
       "      <td>0.977592</td>\n",
       "      <td>1.000000</td>\n",
       "      <td>0.916680</td>\n",
       "      <td>0.679833</td>\n",
       "      <td>0.785749</td>\n",
       "    </tr>\n",
       "    <tr>\n",
       "      <th>0005.hk</th>\n",
       "      <td>0.876642</td>\n",
       "      <td>0.916680</td>\n",
       "      <td>1.000000</td>\n",
       "      <td>0.551477</td>\n",
       "      <td>0.682594</td>\n",
       "    </tr>\n",
       "    <tr>\n",
       "      <th>1299.hk</th>\n",
       "      <td>0.796359</td>\n",
       "      <td>0.679833</td>\n",
       "      <td>0.551477</td>\n",
       "      <td>1.000000</td>\n",
       "      <td>0.687009</td>\n",
       "    </tr>\n",
       "    <tr>\n",
       "      <th>0941.hk</th>\n",
       "      <td>0.845948</td>\n",
       "      <td>0.785749</td>\n",
       "      <td>0.682594</td>\n",
       "      <td>0.687009</td>\n",
       "      <td>1.000000</td>\n",
       "    </tr>\n",
       "  </tbody>\n",
       "</table>\n",
       "</div>"
      ],
      "text/plain": [
       "             ^HSI     ^HSCE   0005.hk   1299.hk   0941.hk\n",
       "^HSI     1.000000  0.977592  0.876642  0.796359  0.845948\n",
       "^HSCE    0.977592  1.000000  0.916680  0.679833  0.785749\n",
       "0005.hk  0.876642  0.916680  1.000000  0.551477  0.682594\n",
       "1299.hk  0.796359  0.679833  0.551477  1.000000  0.687009\n",
       "0941.hk  0.845948  0.785749  0.682594  0.687009  1.000000"
      ]
     },
     "execution_count": 22,
     "metadata": {},
     "output_type": "execute_result"
    }
   ],
   "source": [
    "data.corr()"
   ]
  },
  {
   "cell_type": "markdown",
   "metadata": {},
   "source": [
    "plot_stock  is a defined function that plot the daily stock price we have. In this function, we need three input.\n",
    "1. The dataframe we have\n",
    "2. The stock we want to present in the dataframe, if inputing 'all' in will present all stock price in the dataframe, if we just want to present few or one particular stocks we can just input the list of stock name we have.\n",
    "3. Annotation switch. If input True, there will be a annotation of the last price, versa vice\n",
    "\n",
    "Here will be two examples, \n",
    "1. I will try to plot all the stock price in the dataframe without anntation. However, it is not a good example becasue the price of scale are too different in this dataframe.\n",
    "2. I will present 0700.hk and 0005.hk with annotation.\n"
   ]
  },
  {
   "cell_type": "code",
   "execution_count": 24,
   "metadata": {
    "collapsed": false
   },
   "outputs": [],
   "source": [
    "plot_datasubplot(data)"
   ]
  },
  {
   "cell_type": "code",
   "execution_count": 20,
   "metadata": {
    "collapsed": false
   },
   "outputs": [],
   "source": [
    "plot_stock(data,'all',False)"
   ]
  },
  {
   "cell_type": "code",
   "execution_count": 21,
   "metadata": {
    "collapsed": false
   },
   "outputs": [],
   "source": [
    "plot_stock(data,['0700.hk','0005.hk'],True)"
   ]
  },
  {
   "cell_type": "markdown",
   "metadata": {},
   "source": [
    "plot_datasubplot is ulitized to present all the stock price in subplots. in this example, I am going to present the whole data"
   ]
  },
  {
   "cell_type": "markdown",
   "metadata": {},
   "source": [
    "graph_with_indicator is a function that present a chosen stock with two common used finance indicator, Exponential Moving Average(EMA) and Relative Strength Index(RSI). \n",
    "Three different windows, 5,8,13 , will be utilized for EMA. Moroover, RSI will have window = 14.\n",
    "Here are the websites of how these indicator to be useful in stock trading. \n",
    "\n",
    "[Exponential Moving Average(EMA)][1]\n",
    "[1]:http://www.investopedia.com/terms/e/ema.asp\n",
    "\n",
    "[Relative Strength Index(RSI)][2]\n",
    "[2]:http://www.investopedia.com/terms/r/rsi.asp\n",
    "\n",
    "Finally, the function will return the dataframe, including the stock price and the EMA data.\n",
    "\n",
    "In the following example, i will try to present Hang Seng index in graph and create the new dataframe for it"
   ]
  },
  {
   "cell_type": "code",
   "execution_count": 25,
   "metadata": {
    "collapsed": false,
    "scrolled": true
   },
   "outputs": [
    {
     "name": "stderr",
     "output_type": "stream",
     "text": [
      "C:\\Anaconda2\\lib\\site-packages\\ipykernel\\__main__.py:6: FutureWarning: pd.ewm_mean is deprecated for Series and will be removed in a future version, replace with \n",
      "\tSeries.ewm(ignore_na=False,min_periods=0,adjust=True,com=5).mean()\n",
      "C:\\Anaconda2\\lib\\site-packages\\ipykernel\\__main__.py:6: FutureWarning: pd.ewm_mean is deprecated for Series and will be removed in a future version, replace with \n",
      "\tSeries.ewm(ignore_na=False,min_periods=0,adjust=True,com=8).mean()\n",
      "C:\\Anaconda2\\lib\\site-packages\\ipykernel\\__main__.py:6: FutureWarning: pd.ewm_mean is deprecated for Series and will be removed in a future version, replace with \n",
      "\tSeries.ewm(ignore_na=False,min_periods=0,adjust=True,com=13).mean()\n",
      "C:\\Anaconda2\\lib\\site-packages\\ipykernel\\__main__.py:18: FutureWarning: pd.ewm_mean is deprecated for Series and will be removed in a future version, replace with \n",
      "\tSeries.ewm(ignore_na=False,min_periods=0,adjust=False,com=13).mean()\n"
     ]
    },
    {
     "data": {
      "text/html": [
       "<div>\n",
       "<table border=\"1\" class=\"dataframe\">\n",
       "  <thead>\n",
       "    <tr style=\"text-align: right;\">\n",
       "      <th></th>\n",
       "      <th>^HSI</th>\n",
       "      <th>^HSI_ema(5)</th>\n",
       "      <th>^HSI_ema(8)</th>\n",
       "      <th>^HSI_ema(13)</th>\n",
       "    </tr>\n",
       "  </thead>\n",
       "  <tbody>\n",
       "    <tr>\n",
       "      <th>2015-07-02</th>\n",
       "      <td>26282.32</td>\n",
       "      <td>26282.320000</td>\n",
       "      <td>26282.320000</td>\n",
       "      <td>26282.320000</td>\n",
       "    </tr>\n",
       "    <tr>\n",
       "      <th>2015-07-03</th>\n",
       "      <td>26064.11</td>\n",
       "      <td>26163.296364</td>\n",
       "      <td>26166.797059</td>\n",
       "      <td>26169.174074</td>\n",
       "    </tr>\n",
       "    <tr>\n",
       "      <th>2015-07-06</th>\n",
       "      <td>25236.28</td>\n",
       "      <td>25796.564615</td>\n",
       "      <td>25819.461198</td>\n",
       "      <td>25834.901243</td>\n",
       "    </tr>\n",
       "    <tr>\n",
       "      <th>2015-07-07</th>\n",
       "      <td>24975.31</td>\n",
       "      <td>25532.196513</td>\n",
       "      <td>25569.811615</td>\n",
       "      <td>25595.558943</td>\n",
       "    </tr>\n",
       "    <tr>\n",
       "      <th>2015-07-08</th>\n",
       "      <td>23516.56</td>\n",
       "      <td>24970.539897</td>\n",
       "      <td>25057.221384</td>\n",
       "      <td>25115.967615</td>\n",
       "    </tr>\n",
       "  </tbody>\n",
       "</table>\n",
       "</div>"
      ],
      "text/plain": [
       "                ^HSI   ^HSI_ema(5)   ^HSI_ema(8)  ^HSI_ema(13)\n",
       "2015-07-02  26282.32  26282.320000  26282.320000  26282.320000\n",
       "2015-07-03  26064.11  26163.296364  26166.797059  26169.174074\n",
       "2015-07-06  25236.28  25796.564615  25819.461198  25834.901243\n",
       "2015-07-07  24975.31  25532.196513  25569.811615  25595.558943\n",
       "2015-07-08  23516.56  24970.539897  25057.221384  25115.967615"
      ]
     },
     "execution_count": 25,
     "metadata": {},
     "output_type": "execute_result"
    }
   ],
   "source": [
    "HSI =  graph_with_indicator(data['^HSI'])\n",
    "HSI.head()"
   ]
  },
  {
   "cell_type": "markdown",
   "metadata": {},
   "source": [
    "log_correlation_finder is a function to produce the correlation table of the dataframe and to find out a certain level of correlation in absolute value bewtween the chosen stock to other.\n",
    "\n",
    "There is an example to show how to obtain the correclation table and find out all the stock have correction which is higher than 0.8 with 0005.hk (HSBC)"
   ]
  },
  {
   "cell_type": "code",
   "execution_count": 83,
   "metadata": {
    "collapsed": false
   },
   "outputs": [
    {
     "name": "stdout",
     "output_type": "stream",
     "text": [
      "             ^HSI     ^HSCE   0700.hk   0005.hk   1299.hk   0941.hk\n",
      "^HSI     1.000000  0.977592 -0.030809  0.876633  0.796233  0.845834\n",
      "^HSCE    0.977592  1.000000 -0.199795  0.916687  0.679615  0.785587\n",
      "0700.hk -0.030809 -0.199795  1.000000 -0.422210  0.476924  0.077976\n",
      "0005.hk  0.876633  0.916687 -0.422210  1.000000  0.551244  0.682382\n",
      "1299.hk  0.796233  0.679615  0.476924  0.551244  1.000000  0.687239\n",
      "0941.hk  0.845834  0.785587  0.077976  0.682382  0.687239  1.000000 \n",
      "['^HSI', '^HSCE']\n"
     ]
    }
   ],
   "source": [
    "log_data_corr, high_corr_asset = log_correlation_finder(data,'0005.hk',0.8)\n",
    "print log_data_corr, '\\n', high_corr_asset"
   ]
  },
  {
   "cell_type": "markdown",
   "metadata": {},
   "source": [
    "##### Part 2.2  Machine Learning"
   ]
  },
  {
   "cell_type": "markdown",
   "metadata": {},
   "source": [
    "split is defined to split data into four dataset, X_train, X_test, y_train, y_test, which has 0.3 splitting rate.\n",
    "\n",
    "**Note that the first column of the dataframe will the y value, it means that the stock we want to predict must be placing in the first column.**             \n",
    "\n",
    "fit_model is using LinearRegression from sklearn to learn the data and using R square to be our performance metric , Finally it wll return the best estimator.\n",
    "\n",
    "in the following example, we will try to predict Hang Seng Index in our dataframe by using these function\n",
    "\n"
   ]
  },
  {
   "cell_type": "code",
   "execution_count": 29,
   "metadata": {
    "collapsed": false
   },
   "outputs": [
    {
     "name": "stdout",
     "output_type": "stream",
     "text": [
      "{'copy_X': True, 'normalize': False, 'n_jobs': 1, 'fit_intercept': True}\n"
     ]
    }
   ],
   "source": [
    "X_train, X_test, y_train, y_test= split_data(data)\n",
    "reg = fit_model(X_train, y_train)\n",
    "print reg.get_params()"
   ]
  },
  {
   "cell_type": "code",
   "execution_count": 34,
   "metadata": {
    "collapsed": false
   },
   "outputs": [
    {
     "name": "stdout",
     "output_type": "stream",
     "text": [
      "R square of training data = 0.997933120788\n"
     ]
    }
   ],
   "source": [
    "train_value = reg.predict(X_train)\n",
    "train_value = pd.DataFrame(train_value,index = y_train.index, columns=['train_value'])\n",
    "R = performance_metric(y_train,train_value)\n",
    "\n",
    "print 'R square of training data = ' + str(R)"
   ]
  },
  {
   "cell_type": "markdown",
   "metadata": {},
   "source": [
    "graph_learing is a function to show the predication result in graph and dataframe. The function will firstly predict the data by using training set, then predicting it by using testing set.\n",
    "\n",
    "After that, the function will plot the true value of the stock price and the predicting value in both training and test set. Moreover, there will be a grey shadow area which is +- 0.5 % of predicting value, it helps us to know how relaiable of this model. \n",
    "\n",
    "Furthermore, the average error between predicting value and true value will be label at the top-right of the graph.\n",
    "Finally, the function will also return the dataframe of the stock price and the predicting value"
   ]
  },
  {
   "cell_type": "code",
   "execution_count": 35,
   "metadata": {
    "collapsed": false
   },
   "outputs": [
    {
     "name": "stdout",
     "output_type": "stream",
     "text": [
      "R Square =  0.903454754554\n"
     ]
    },
    {
     "data": {
      "text/html": [
       "<div>\n",
       "<table border=\"1\" class=\"dataframe\">\n",
       "  <thead>\n",
       "    <tr style=\"text-align: right;\">\n",
       "      <th></th>\n",
       "      <th>^HSI</th>\n",
       "      <th>test_value</th>\n",
       "      <th>train_value</th>\n",
       "      <th>error_train_upper</th>\n",
       "      <th>error_train_lower</th>\n",
       "      <th>error_test_upper</th>\n",
       "      <th>error_test_lower</th>\n",
       "      <th>error_test</th>\n",
       "      <th>error_train</th>\n",
       "    </tr>\n",
       "  </thead>\n",
       "  <tbody>\n",
       "    <tr>\n",
       "      <th>2015-10-28</th>\n",
       "      <td>22956.57</td>\n",
       "      <td>23013.790381</td>\n",
       "      <td>NaN</td>\n",
       "      <td>NaN</td>\n",
       "      <td>NaN</td>\n",
       "      <td>24164.479900</td>\n",
       "      <td>21863.100862</td>\n",
       "      <td>0.002493</td>\n",
       "      <td>NaN</td>\n",
       "    </tr>\n",
       "    <tr>\n",
       "      <th>2015-10-29</th>\n",
       "      <td>22819.94</td>\n",
       "      <td>22900.400655</td>\n",
       "      <td>NaN</td>\n",
       "      <td>NaN</td>\n",
       "      <td>NaN</td>\n",
       "      <td>24045.420688</td>\n",
       "      <td>21755.380623</td>\n",
       "      <td>0.003526</td>\n",
       "      <td>NaN</td>\n",
       "    </tr>\n",
       "    <tr>\n",
       "      <th>2015-10-30</th>\n",
       "      <td>22640.04</td>\n",
       "      <td>22636.627083</td>\n",
       "      <td>NaN</td>\n",
       "      <td>NaN</td>\n",
       "      <td>NaN</td>\n",
       "      <td>23768.458438</td>\n",
       "      <td>21504.795729</td>\n",
       "      <td>0.000151</td>\n",
       "      <td>NaN</td>\n",
       "    </tr>\n",
       "    <tr>\n",
       "      <th>2015-11-02</th>\n",
       "      <td>22370.04</td>\n",
       "      <td>22447.039317</td>\n",
       "      <td>NaN</td>\n",
       "      <td>NaN</td>\n",
       "      <td>NaN</td>\n",
       "      <td>23569.391283</td>\n",
       "      <td>21324.687351</td>\n",
       "      <td>0.003442</td>\n",
       "      <td>NaN</td>\n",
       "    </tr>\n",
       "    <tr>\n",
       "      <th>2015-11-03</th>\n",
       "      <td>22568.43</td>\n",
       "      <td>22625.588979</td>\n",
       "      <td>NaN</td>\n",
       "      <td>NaN</td>\n",
       "      <td>NaN</td>\n",
       "      <td>23756.868428</td>\n",
       "      <td>21494.309530</td>\n",
       "      <td>0.002533</td>\n",
       "      <td>NaN</td>\n",
       "    </tr>\n",
       "  </tbody>\n",
       "</table>\n",
       "</div>"
      ],
      "text/plain": [
       "                ^HSI    test_value  train_value  error_train_upper  \\\n",
       "2015-10-28  22956.57  23013.790381          NaN                NaN   \n",
       "2015-10-29  22819.94  22900.400655          NaN                NaN   \n",
       "2015-10-30  22640.04  22636.627083          NaN                NaN   \n",
       "2015-11-02  22370.04  22447.039317          NaN                NaN   \n",
       "2015-11-03  22568.43  22625.588979          NaN                NaN   \n",
       "\n",
       "            error_train_lower  error_test_upper  error_test_lower  error_test  \\\n",
       "2015-10-28                NaN      24164.479900      21863.100862    0.002493   \n",
       "2015-10-29                NaN      24045.420688      21755.380623    0.003526   \n",
       "2015-10-30                NaN      23768.458438      21504.795729    0.000151   \n",
       "2015-11-02                NaN      23569.391283      21324.687351    0.003442   \n",
       "2015-11-03                NaN      23756.868428      21494.309530    0.002533   \n",
       "\n",
       "            error_train  \n",
       "2015-10-28          NaN  \n",
       "2015-10-29          NaN  \n",
       "2015-10-30          NaN  \n",
       "2015-11-02          NaN  \n",
       "2015-11-03          NaN  "
      ]
     },
     "execution_count": 35,
     "metadata": {},
     "output_type": "execute_result"
    }
   ],
   "source": [
    "result = graph_learing(X_train, X_test, y_train, y_test)\n",
    "result.head()"
   ]
  },
  {
   "cell_type": "markdown",
   "metadata": {},
   "source": [
    "# Part 3. Conclusion"
   ]
  },
  {
   "cell_type": "markdown",
   "metadata": {},
   "source": [
    "In this project, Hong Kong stock market is being used as an exmaple to show how his program predicting stock price by using machine learning knowledge. I have tried to predict Hang Keng Index with different major stock in Hong Kong. It finally shows that it is a reliable estimator as it has a very high R square and the average error is less then 5%."
   ]
  }
 ],
 "metadata": {
  "kernelspec": {
   "display_name": "Python 2",
   "language": "python",
   "name": "python2"
  },
  "language_info": {
   "codemirror_mode": {
    "name": "ipython",
    "version": 2
   },
   "file_extension": ".py",
   "mimetype": "text/x-python",
   "name": "python",
   "nbconvert_exporter": "python",
   "pygments_lexer": "ipython2",
   "version": "2.7.12"
  }
 },
 "nbformat": 4,
 "nbformat_minor": 0
}
